{
 "cells": [
  {
   "cell_type": "code",
   "execution_count": 1,
   "metadata": {},
   "outputs": [],
   "source": [
    "import tifffile as tf\n",
    "import numpy as np\n",
    "import matplotlib.pyplot as plt"
   ]
  },
  {
   "cell_type": "code",
   "execution_count": 2,
   "metadata": {},
   "outputs": [],
   "source": [
    "sncaip_folder = '/home/hcleroy/PostDoc/Colab_David/ExperimentalData/Processed_Cell_Crops/Synphillin_Channel/'\n",
    "sncaip_names = [sncaip_folder+'Cell'+str(i)+'_ROI'+str(i)+'_SNCAIP.tif' for i in range(1,11)]\n",
    "sncaip =  [tf.imread(name) for name in sncaip_names]\n",
    "for i,stack in enumerate(sncaip):\n",
    "       np.save(sncaip_folder+'masks4D_'+str(i)+'.npy',sncaip[i],allow_pickle=True)"
   ]
  },
  {
   "cell_type": "code",
   "execution_count": 3,
   "metadata": {},
   "outputs": [],
   "source": [
    "mask_folder = '/home/hcleroy/PostDoc/Colab_David/ExperimentalData/Processed_Cell_Crops/mask/'\n",
    "cell_names = [mask_folder+'cell'+str(i)+'.tiff' for i in range(10)]\n",
    "cond_names = [mask_folder+'cond'+str(i)+'.tiff' for i in range(10)]\n",
    "cyt_names = [mask_folder+'cyt'+str(i)+'.tiff' for i in range(10)]"
   ]
  },
  {
   "cell_type": "code",
   "execution_count": 4,
   "metadata": {},
   "outputs": [],
   "source": [
    "cell_img = [tf.imread(name) for name in cell_names]\n",
    "cond_img = [tf.imread(name) for name in cond_names]\n",
    "cyt_img = [tf.imread(name) for name in cyt_names]"
   ]
  },
  {
   "cell_type": "code",
   "execution_count": 5,
   "metadata": {},
   "outputs": [
    {
     "data": {
      "text/plain": [
       "<matplotlib.image.AxesImage at 0x7f1c010bf550>"
      ]
     },
     "execution_count": 5,
     "metadata": {},
     "output_type": "execute_result"
    },
    {
     "data": {
      "image/png": "[encoded data removed]",
      "text/plain": [
       "<Figure size 640x480 with 1 Axes>"
      ]
     },
     "metadata": {},
     "output_type": "display_data"
    }
   ],
   "source": [
    "plt.imshow(cell_img[0][0] - cyt_img[0][0] - cond_img[0][0])"
   ]
  },
  {
   "cell_type": "code",
   "execution_count": 6,
   "metadata": {},
   "outputs": [],
   "source": [
    "full_labeled_data = [np.zeros((stack.shape[0],stack.shape[1],stack.shape[2],3),dtype=np.float32) for stack in cell_img]\n",
    "for i in range(len(cell_img)):\n",
    "    for j in range(cell_img[i].shape[0]):\n",
    "        full_labeled_data[i][j,:,:,0] = (cell_img[i][j] - cyt_img[i][j] - cond_img[i][j])\n",
    "        full_labeled_data[i][j,:,:,1] = cond_img[i][j]\n",
    "        full_labeled_data[i][j,:,:,2] =  cyt_img[i][j]"
   ]
  },
  {
   "cell_type": "code",
   "execution_count": 7,
   "metadata": {},
   "outputs": [],
   "source": [
    "#for i,stack in enumerate(full_labeled_data):\n",
    "#    tf.imwrite('three_labeled'+str(i)+'.tif',full_labeled_data[i])\n",
    "COLOR_DICT = {\n",
    "    (0, 0, 0): 0,      # Background\n",
    "    (255, 0, 0): 1,    # Cell contour\n",
    "    (0, 255, 0): 2,    # Nucleus\n",
    "    (0, 0, 255): 3     # Condensate\n",
    "}\n",
    "def rgb_to_onehot(mask):\n",
    "    onehot_mask = np.zeros((mask.shape[0], mask.shape[1], 4), dtype=np.float32)\n",
    "    for color, index in COLOR_DICT.items():\n",
    "        onehot_mask[np.all(mask == color, axis=-1)] = np.eye(4)[index]\n",
    "    return onehot_mask"
   ]
  },
  {
   "cell_type": "code",
   "execution_count": 8,
   "metadata": {},
   "outputs": [],
   "source": [
    "categorical_imgs  = [np.zeros((stack.shape[0],stack.shape[1],stack.shape[2],4),dtype=np.float32) for stack in cell_img]\n",
    "for i in range(len(full_labeled_data)):\n",
    "    for j in range(full_labeled_data[i].shape[0]):\n",
    "        categorical_imgs[i][j] = rgb_to_onehot(full_labeled_data[i][j])"
   ]
  },
  {
   "cell_type": "code",
   "execution_count": 29,
   "metadata": {},
   "outputs": [],
   "source": [
    "#for i,stack in enumerate(categorical_imgs):\n",
    "#       np.save('masks4D_'+str(i)+'.npy',categorical_imgs[i],allow_pickle=True)"
   ]
  },
  {
   "cell_type": "code",
   "execution_count": 9,
   "metadata": {},
   "outputs": [
    {
     "data": {
      "text/plain": [
       "(30, 134, 134, 4)"
      ]
     },
     "execution_count": 9,
     "metadata": {},
     "output_type": "execute_result"
    }
   ],
   "source": [
    "categorical_imgs[0].shape"
   ]
  },
  {
   "cell_type": "code",
   "execution_count": 10,
   "metadata": {},
   "outputs": [],
   "source": [
    "def conver_class_to_label(image):\n",
    "        # Use np.argmax to get the index of the max value in the one-hot encoded vector for each pixel\n",
    "    class_labels = np.argmax(image, axis=-1)\n",
    "    \n",
    "    # Add a new axis to match the desired output shape (resolution, resolution, 1)\n",
    "    class_labels = class_labels[..., np.newaxis]\n",
    "    \n",
    "    return class_labels"
   ]
  },
  {
   "cell_type": "code",
   "execution_count": 19,
   "metadata": {},
   "outputs": [],
   "source": [
    "imgs_labels  = [np.zeros((stack.shape[0],stack.shape[1],stack.shape[2],1),dtype=np.float32) for stack in cell_img]\n",
    "for i in range(len(full_labeled_data)):\n",
    "    for j in range(full_labeled_data[i].shape[0]):\n",
    "        imgs_labels[i][j] = conver_class_to_label(categorical_imgs[i][j])"
   ]
  },
  {
   "cell_type": "code",
   "execution_count": 22,
   "metadata": {},
   "outputs": [],
   "source": [
    "for i,stack in enumerate(imgs_labels):\n",
    "       np.save('masks1D_'+str(i)+'.npy',stack,allow_pickle=True)"
   ]
  }
 ],
 "metadata": {
  "kernelspec": {
   "display_name": "UNET",
   "language": "python",
   "name": "python3"
  },
  "language_info": {
   "codemirror_mode": {
    "name": "ipython",
    "version": 3
   },
   "file_extension": ".py",
   "mimetype": "text/x-python",
   "name": "python",
   "nbconvert_exporter": "python",
   "pygments_lexer": "ipython3",
   "version": "3.8.17"
  }
 },
 "nbformat": 4,
 "nbformat_minor": 2
}
